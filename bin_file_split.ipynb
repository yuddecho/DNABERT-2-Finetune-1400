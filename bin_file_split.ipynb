{
 "cells": [
  {
   "cell_type": "code",
   "execution_count": 1,
   "id": "8b862aa3",
   "metadata": {
    "ExecuteTime": {
     "end_time": "2024-06-21T13:02:22.758677Z",
     "start_time": "2024-06-21T13:02:22.754682Z"
    }
   },
   "outputs": [],
   "source": [
    "import os"
   ]
  },
  {
   "cell_type": "code",
   "execution_count": 4,
   "id": "fddd40a0",
   "metadata": {
    "ExecuteTime": {
     "end_time": "2024-06-21T13:06:01.880419Z",
     "start_time": "2024-06-21T13:06:01.876691Z"
    }
   },
   "outputs": [
    {
     "name": "stdout",
     "output_type": "stream",
     "text": [
      "pytorch_model.bin\n",
      "ok\n"
     ]
    }
   ],
   "source": [
    "# source modle.bin file\n",
    "source_big_bin_file = 'pytorch_model.bin'\n",
    "\n",
    "print(source_big_bin_file)\n",
    "if os.path.exists(source_big_bin_file):\n",
    "    print('ok')"
   ]
  },
  {
   "cell_type": "code",
   "execution_count": 8,
   "id": "76694e13",
   "metadata": {
    "ExecuteTime": {
     "end_time": "2024-06-21T13:13:21.904120Z",
     "start_time": "2024-06-21T13:13:21.644381Z"
    }
   },
   "outputs": [
    {
     "name": "stdout",
     "output_type": "stream",
     "text": [
      "ok\n"
     ]
    }
   ],
   "source": [
    "# target dir\n",
    "bin_file_dir = 'pytorch_model_files'\n",
    "if not os.path.exists(bin_file_dir):\n",
    "    os.mkdir(bin_file_dir)\n",
    "    \n",
    "file_size = 1000 * 1000 * 49 # 49MB\n",
    "num_files = 10\n",
    "    \n",
    "# file split\n",
    "with open(source_big_bin_file, 'rb') as infile:\n",
    "    contents = infile.read()\n",
    "    \n",
    "    for i in range(num_files):\n",
    "        start = i * file_size\n",
    "        end = min((i + 1) * file_size, len(contents))\n",
    "        with open(f'pytorch_model_{i}.bin', 'wb') as outfile:\n",
    "            outfile.write(contents[start:end])\n",
    "            \n",
    "print('ok')"
   ]
  },
  {
   "cell_type": "code",
   "execution_count": 11,
   "id": "67c7bcad",
   "metadata": {
    "ExecuteTime": {
     "end_time": "2024-06-21T13:41:34.656792Z",
     "start_time": "2024-06-21T13:41:33.938006Z"
    }
   },
   "outputs": [
    {
     "name": "stdout",
     "output_type": "stream",
     "text": [
      "ok\n"
     ]
    }
   ],
   "source": [
    "# merge\n",
    "bin_file_dir = 'pytorch_model_files'\n",
    "if not os.path.exists(bin_file_dir):\n",
    "    raise\n",
    "    \n",
    "num_files = 10\n",
    "total_contents = bytes()\n",
    "\n",
    "for i in range(num_files):\n",
    "    file_path = f'{bin_file_dir}/pytorch_model_{i}.bin'\n",
    "    \n",
    "    with open(file_path, 'rb') as infile:\n",
    "        total_contents += infile.read()\n",
    "      \n",
    "# write\n",
    "with open(f'{bin_file_dir}/pytorch_model.bin', 'wb') as outfile:\n",
    "    outfile.write(total_contents)\n",
    "    \n",
    "print('ok')"
   ]
  }
 ],
 "metadata": {
  "kernelspec": {
   "display_name": "Python 3 (ipykernel)",
   "language": "python",
   "name": "python3"
  },
  "language_info": {
   "codemirror_mode": {
    "name": "ipython",
    "version": 3
   },
   "file_extension": ".py",
   "mimetype": "text/x-python",
   "name": "python",
   "nbconvert_exporter": "python",
   "pygments_lexer": "ipython3",
   "version": "3.10.11"
  },
  "toc": {
   "base_numbering": 1,
   "nav_menu": {},
   "number_sections": true,
   "sideBar": true,
   "skip_h1_title": false,
   "title_cell": "Table of Contents",
   "title_sidebar": "Contents",
   "toc_cell": false,
   "toc_position": {},
   "toc_section_display": true,
   "toc_window_display": false
  },
  "varInspector": {
   "cols": {
    "lenName": 16,
    "lenType": 16,
    "lenVar": 40
   },
   "kernels_config": {
    "python": {
     "delete_cmd_postfix": "",
     "delete_cmd_prefix": "del ",
     "library": "var_list.py",
     "varRefreshCmd": "print(var_dic_list())"
    },
    "r": {
     "delete_cmd_postfix": ") ",
     "delete_cmd_prefix": "rm(",
     "library": "var_list.r",
     "varRefreshCmd": "cat(var_dic_list()) "
    }
   },
   "types_to_exclude": [
    "module",
    "function",
    "builtin_function_or_method",
    "instance",
    "_Feature"
   ],
   "window_display": false
  }
 },
 "nbformat": 4,
 "nbformat_minor": 5
}
